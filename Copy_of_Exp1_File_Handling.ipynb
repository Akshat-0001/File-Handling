{
  "cells": [
    {
      "cell_type": "markdown",
      "metadata": {
        "id": "view-in-github",
        "colab_type": "text"
      },
      "source": [
        "<a href=\"https://colab.research.google.com/github/Akshat-0001/File-Handling/blob/main/Copy_of_Exp1_File_Handling.ipynb\" target=\"_parent\"><img src=\"https://colab.research.google.com/assets/colab-badge.svg\" alt=\"Open In Colab\"/></a>"
      ]
    },
    {
      "cell_type": "code",
      "execution_count": null,
      "metadata": {
        "colab": {
          "base_uri": "https://localhost:8080/"
        },
        "id": "eikxCFcN-7AR",
        "scrolled": true,
        "outputId": "71113b45-6a9c-4036-999d-9f5f3b895888"
      },
      "outputs": [
        {
          "output_type": "stream",
          "name": "stdout",
          "text": [
            "Hello I'm under the water uwu!!\n"
          ]
        }
      ],
      "source": [
        "#------------------------------------------------------------------------\n",
        "# 1.1: Read a file and print its content line by line\n",
        "#------------------------------------------------------------------------\n",
        "\n",
        "try:\n",
        "    fp = open('deathnote_1.txt')    # Open the file in reading mode\n",
        "    for line in fp:         # Print line by line\n",
        "     print (line)\n",
        "    fp.close()              # Close the file\n",
        "\n",
        "except:\n",
        "    print(\"Error!! No such file exist\")\n"
      ]
    },
    {
      "cell_type": "code",
      "execution_count": 6,
      "metadata": {
        "colab": {
          "base_uri": "https://localhost:8080/"
        },
        "id": "0_5W7vHlQ883",
        "outputId": "e629613a-cc3f-4105-e560-d8d64ce168fa",
        "scrolled": true
      },
      "outputs": [
        {
          "output_type": "stream",
          "name": "stdout",
          "text": [
            "Writing done !! \n",
            "Open deathnote_2.txt to view the content\n"
          ]
        }
      ],
      "source": [
        "#------------------------------------------------------------------------\n",
        "# 1.2: Writing 1 to 7 in file\n",
        "#------------------------------------------------------------------------\n",
        "\n",
        "\n",
        "fp = open('deathnote_2.txt','w')      # Open the file in writing mode\n",
        "\n",
        "for i in range(1,8):\n",
        "    fp.write(str(i) + \"\\n\")      # Writing to the file line by line\n",
        "fp.close()\n",
        "\n",
        "print (\"Writing done !! \\nOpen deathnote_2.txt to view the content\")\n"
      ]
    },
    {
      "cell_type": "code",
      "execution_count": 8,
      "metadata": {
        "colab": {
          "base_uri": "https://localhost:8080/"
        },
        "id": "ExiS0e4fQ887",
        "outputId": "73d616a9-01da-4611-8afb-86a73add067a",
        "scrolled": true
      },
      "outputs": [
        {
          "output_type": "stream",
          "name": "stdout",
          "text": [
            "Writing done !! \n",
            "Open deathnote_3.txt to view the content\n"
          ]
        }
      ],
      "source": [
        "#------------------------------------------------------------------------\n",
        "# 1.3: Read from one file, Convert it to upper case and write to other file\n",
        "#------------------------------------------------------------------------\n",
        "try:\n",
        "    readFp  = open('deathnote_1.txt')          # Open the file in reading mode\n",
        "    writeFp = open('deathnote_3.txt','w')    # Open the file in writing mode\n",
        "\n",
        "    for line in readFp: \n",
        "        writeFp.write(line.upper()) #changing line to uppercase\n",
        "\n",
        "    readFp.close() #close file in reading mode\n",
        "    writeFp.close() #close file in writing mode\n",
        "\n",
        "    print (\"Writing done !! \\nOpen deathnote_3.txt to view the content\")\n",
        "\n",
        "except:\n",
        "    print(\"Error !! Unable to open file.\")"
      ]
    },
    {
      "cell_type": "code",
      "execution_count": 5,
      "metadata": {
        "colab": {
          "base_uri": "https://localhost:8080/"
        },
        "id": "qj0yqEtdQ889",
        "outputId": "73123da4-22c0-40d7-87ec-7e8582ee3677",
        "scrolled": true
      },
      "outputs": [
        {
          "output_type": "stream",
          "name": "stdout",
          "text": [
            "Writing done !! \n",
            "Open deathnote_5.txt to view the content\n"
          ]
        }
      ],
      "source": [
        "#------------------------------------------------------------------------\n",
        "# 1.4: Appending to a file\n",
        "#------------------------------------------------------------------------\n",
        "try:\n",
        "    readFp  = open('deathnote_1.txt')          # Open the file in reading mode\n",
        "    writeFp = open('deathnote_5.txt','a')    # Open the file in Append mode\n",
        "\n",
        "    for line in readFp: \n",
        "        writeFp.write(line) #Adding lines from file1 to file5\n",
        "\n",
        "    readFp.close()\n",
        "    writeFp.close()\n",
        "\n",
        "    print (\"Writing done !! \\nOpen deathnote_5.txt to view the content\")\n",
        "\n",
        "except:\n",
        "    print(\"Error !! Unable to open file.\")"
      ]
    },
    {
      "cell_type": "code",
      "execution_count": null,
      "metadata": {
        "colab": {
          "base_uri": "https://localhost:8080/"
        },
        "id": "2wYYMUhrQ88_",
        "outputId": "58c88465-7af3-4399-a373-72ca80a97365",
        "scrolled": true
      },
      "outputs": [
        {
          "output_type": "stream",
          "name": "stdout",
          "text": [
            "Done\n"
          ]
        }
      ],
      "source": [
        "#------------------------------------------------------------------------\n",
        "# 1.5: Creating a file\n",
        "#------------------------------------------------------------------------\n",
        "try:\n",
        "    writeFp = open('deathnote_6.txt','x')    # Open the file in create mode\n",
        "    writeFp.close()\n",
        "\n",
        "    print (\"Done\")\n",
        "\n",
        "except:\n",
        "    print(\"Error !! File already exist.\")"
      ]
    },
    {
      "cell_type": "code",
      "execution_count": null,
      "metadata": {
        "colab": {
          "base_uri": "https://localhost:8080/"
        },
        "id": "UAzZHogPQ89B",
        "outputId": "9c045660-4b29-47be-eb59-e9220355bd60",
        "scrolled": true
      },
      "outputs": [
        {
          "output_type": "stream",
          "name": "stdout",
          "text": [
            "['.config', 'deathnote_3.txt', 'deathnote_6.txt', 'deathnote_2.txt', 'deathnote_1.txt', 'deathnote_5.txt', 'sample_data', '.ipynb_checkpoints']\n"
          ]
        }
      ],
      "source": [
        "#------------------------------------------------------------------------\n",
        "# 1.6: get all the files (and directories) in the current directory\n",
        "#------------------------------------------------------------------------\n",
        "\n",
        "\n",
        "import os\n",
        "allFiles = os.listdir()\n",
        "print(allFiles)\n"
      ]
    },
    {
      "cell_type": "code",
      "execution_count": null,
      "metadata": {
        "colab": {
          "base_uri": "https://localhost:8080/"
        },
        "id": "cXcJ_qj7Q89D",
        "outputId": "be8aa8f7-df31-445c-f951-42c869818bef",
        "scrolled": true
      },
      "outputs": [
        {
          "output_type": "stream",
          "name": "stdout",
          "text": [
            "['deathnote_3.txt', 'deathnote_6.txt', 'deathnote_2.txt', 'deathnote_1.txt', 'deathnote_5.txt']\n"
          ]
        }
      ],
      "source": [
        "#-------------------------------------------------\n",
        "# 1.7: List all the files present in a directory \n",
        "#-------------------------------------------------\n",
        "\n",
        "import glob\n",
        "allFiles = glob.glob(\"*.txt\") \n",
        "print(allFiles)\n",
        "\n"
      ]
    },
    {
      "cell_type": "code",
      "execution_count": null,
      "metadata": {
        "colab": {
          "base_uri": "https://localhost:8080/"
        },
        "id": "mS8YUq0EQ89F",
        "outputId": "b6b8a4e4-2841-4e9b-ae5d-8656b1542d29",
        "scrolled": true
      },
      "outputs": [
        {
          "output_type": "stream",
          "name": "stdout",
          "text": [
            "/content\n"
          ]
        }
      ],
      "source": [
        "#----------------------------------------\n",
        "# 1.8: Get the current working directory\n",
        "#---------------------------------------\n",
        "import os\n",
        "\n",
        "# Getting the current work directory; similar to pwd in Linux\n",
        "currentDirName = os.getcwd()\n",
        "\n",
        "print(currentDirName)\n"
      ]
    },
    {
      "cell_type": "code",
      "execution_count": null,
      "metadata": {
        "colab": {
          "base_uri": "https://localhost:8080/"
        },
        "id": "wpLvYkenQ89I",
        "outputId": "ed8aff81-2fdd-4db1-d9e2-dbce7984c7b1",
        "scrolled": true
      },
      "outputs": [
        {
          "output_type": "stream",
          "name": "stdout",
          "text": [
            "File Deleted !!\n"
          ]
        }
      ],
      "source": [
        "#-------------------\n",
        "# 1.9: Delete a file\n",
        "#-------------------\n",
        "import os\n",
        "\n",
        "try:\n",
        "    os.remove(\"deathnote_6.txt\") #to remove a file\n",
        "    print (\"File Deleted !!\")\n",
        "except:\n",
        "    print (\"Error !! File not found \")\n",
        "\n"
      ]
    },
    {
      "cell_type": "code",
      "execution_count": null,
      "metadata": {
        "colab": {
          "base_uri": "https://localhost:8080/"
        },
        "id": "G7DldjlrQ89J",
        "outputId": "554e9927-73c4-4af3-b1d9-8f13159153a4",
        "scrolled": true
      },
      "outputs": [
        {
          "output_type": "stream",
          "name": "stdout",
          "text": [
            "The file does not exist\n"
          ]
        }
      ],
      "source": [
        "#---------------------------------\n",
        "# 1.10: Check if File exist\n",
        "#--------------------------------\n",
        "import os\n",
        "\n",
        "if os.path.exists(\"deathnote_4.txt\"):\n",
        "  os.remove(\"demofile.txt\")\n",
        "else:\n",
        "  print(\"The file does not exist\") \n"
      ]
    },
    {
      "cell_type": "code",
      "execution_count": null,
      "metadata": {
        "colab": {
          "base_uri": "https://localhost:8080/"
        },
        "id": "Nxv24TvcQ89K",
        "outputId": "e686fa2a-57d3-467a-c25b-0c94f1558c9f",
        "scrolled": true
      },
      "outputs": [
        {
          "output_type": "stream",
          "name": "stdout",
          "text": [
            "Error !! File/Directory not found \n"
          ]
        }
      ],
      "source": [
        "#--------------------------\n",
        "# 1.11: Delete a directory\n",
        "#--------------------------\n",
        "\n",
        "import os\n",
        "\n",
        "try:\n",
        "    os.rmdir(\"/content/Assignment_directory\") \n",
        "    print (\"Directory Deleted !!\")\n",
        "except:\n",
        "    print (\"Error !! File/Directory not found \")\n"
      ]
    },
    {
      "cell_type": "code",
      "execution_count": null,
      "metadata": {
        "colab": {
          "base_uri": "https://localhost:8080/"
        },
        "id": "yrtEOEoQQ89N",
        "outputId": "f19e664a-a17f-4e74-cb3e-60ac5046710c",
        "scrolled": true
      },
      "outputs": [
        {
          "output_type": "stream",
          "name": "stdout",
          "text": [
            "52\n"
          ]
        }
      ],
      "source": [
        "#----------------------------------\n",
        "# 2.1: Adds n to the number passed\n",
        "#---------------------------------\n",
        "\n",
        "n = 45\n",
        "\n",
        "x = lambda a : a + n\n",
        "\n",
        "print(x(7))\n"
      ]
    },
    {
      "cell_type": "code",
      "execution_count": null,
      "metadata": {
        "colab": {
          "base_uri": "https://localhost:8080/"
        },
        "id": "wLy9MMLjQ89O",
        "outputId": "987fa7bc-8862-47e5-e9fc-36478951387f",
        "scrolled": true
      },
      "outputs": [
        {
          "output_type": "stream",
          "name": "stdout",
          "text": [
            "21\n"
          ]
        }
      ],
      "source": [
        "#--------------------------------------------------------\n",
        "# 2.2: Lambda functions can take any number of arguments:\n",
        "#-------------------------------------------------------\n",
        "x = lambda a,b,c : a * b+c\n",
        "\n",
        "print(x(4, 5,1))\n"
      ]
    },
    {
      "cell_type": "code",
      "execution_count": null,
      "metadata": {
        "colab": {
          "base_uri": "https://localhost:8080/"
        },
        "id": "734L_lg3Q89Q",
        "outputId": "cbdc3ae7-4bbc-424b-9409-a690e42de0fb",
        "scrolled": true
      },
      "outputs": [
        {
          "output_type": "stream",
          "name": "stdout",
          "text": [
            "84\n"
          ]
        }
      ],
      "source": [
        "#------------------------------------------------------------\n",
        "# 2.3: a function definition that takes one argument, \n",
        "# and that argument will be multiplied with an unknown number:\n",
        "#-------------------------------------------------------------\n",
        "\n",
        "\n",
        "def myfunc(n):\n",
        "  return lambda a : a * n\n",
        "\n",
        "mydoubler = myfunc(4)\n",
        "print(mydoubler(21))\n"
      ]
    },
    {
      "cell_type": "code",
      "execution_count": null,
      "metadata": {
        "colab": {
          "base_uri": "https://localhost:8080/"
        },
        "id": "64LmK0X9Q89R",
        "outputId": "20bd18d6-4429-4e18-c566-b1d8e40a4b21",
        "scrolled": true
      },
      "outputs": [
        {
          "output_type": "stream",
          "name": "stdout",
          "text": [
            "<filter object at 0x7f4be4a3cd50>\n",
            "[10, 8, 7, 5, 4, 11]\n"
          ]
        }
      ],
      "source": [
        "#-----------------------------------\n",
        "# 2.4: Filter from List using Lambda\n",
        "#------------------------------------\n",
        "\n",
        "L = [10,2,8,7,5,4,3,11,0, 1]      \n",
        "\n",
        "result = filter (lambda x: x > 3, L) \n",
        "\n",
        "print(result)\n",
        "print(list(result))\n"
      ]
    },
    {
      "cell_type": "code",
      "execution_count": null,
      "metadata": {
        "colab": {
          "base_uri": "https://localhost:8080/"
        },
        "id": "-bkHBvFGQ89S",
        "outputId": "728916c1-c96d-499f-fb43-1ecbfd98cfbb",
        "scrolled": true
      },
      "outputs": [
        {
          "output_type": "stream",
          "name": "stdout",
          "text": [
            "<map object at 0x7f4be4a4b490>\n",
            "[1, 4, 9, 16, 25, 36, 49]\n"
          ]
        }
      ],
      "source": [
        "#-----------------------\n",
        "# 2.5: lambdas in map()\n",
        "#------------------------\n",
        "\n",
        "L = [1,2,3,4,5,6,7]  \n",
        "\n",
        "result = map (lambda x: x * x, L)\n",
        "\n",
        "print(result)\n",
        "print(list(result))\n"
      ]
    },
    {
      "cell_type": "code",
      "execution_count": null,
      "metadata": {
        "colab": {
          "base_uri": "https://localhost:8080/"
        },
        "id": "OvSiiFuUQ89T",
        "outputId": "6334d777-357d-40a4-a47f-50a5568bcef8",
        "scrolled": true
      },
      "outputs": [
        {
          "output_type": "stream",
          "name": "stdout",
          "text": [
            "Sum     -->  28\n",
            "Product --> 5040\n"
          ]
        }
      ],
      "source": [
        "#---------------------------\n",
        "# 2.6: lambdas in reduce(): \n",
        "#---------------------------\n",
        "\n",
        "from functools import reduce\n",
        "\n",
        "L = [1,2,3,4,5,6,7]   # List of Number\n",
        "\n",
        "Sum = reduce (lambda x, y: x + y, L)\n",
        "Product = reduce (lambda x, y: x * y, L)\n",
        "\n",
        "print(\"Sum     --> \", Sum)\n",
        "print(\"Product -->\", Product)\n"
      ]
    }
  ],
  "metadata": {
    "colab": {
      "collapsed_sections": [],
      "provenance": [],
      "include_colab_link": true
    },
    "kernelspec": {
      "display_name": "Python 3",
      "language": "python",
      "name": "python3"
    },
    "language_info": {
      "codemirror_mode": {
        "name": "ipython",
        "version": 3
      },
      "file_extension": ".py",
      "mimetype": "text/x-python",
      "name": "python",
      "nbconvert_exporter": "python",
      "pygments_lexer": "ipython3",
      "version": "3.7.7"
    }
  },
  "nbformat": 4,
  "nbformat_minor": 0
}